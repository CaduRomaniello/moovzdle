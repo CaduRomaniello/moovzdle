{
 "cells": [
  {
   "cell_type": "code",
   "execution_count": 5,
   "id": "0b58701b",
   "metadata": {},
   "outputs": [],
   "source": [
    "import json\n",
    "import pandas as pd\n",
    "from datetime import datetime\n"
   ]
  },
  {
   "cell_type": "code",
   "execution_count": null,
   "id": "c868e5af",
   "metadata": {},
   "outputs": [],
   "source": [
    "\n",
    "classic_df = pd.read_csv('../src/data/data.csv')\n",
    "classic_df[['DIA', 'MES', 'ANO']] = classic_df['NASCIMENTO'].str.split('/', expand=True)\n",
    "\n",
    "# Convert columns to numeric, coercing errors to NaN\n",
    "classic_df['ALTURA'] = pd.to_numeric(classic_df['ALTURA'], errors='coerce')\n",
    "classic_df['DIA'] = pd.to_numeric(classic_df['DIA'], errors='coerce')\n",
    "classic_df['MES'] = pd.to_numeric(classic_df['MES'], errors='coerce')\n",
    "classic_df['ANO'] = pd.to_numeric(classic_df['ANO'], errors='coerce')\n",
    "\n",
    "# Lowercase all string columns except 'HOBBY' and 'FOTOS'\n",
    "for col in classic_df.select_dtypes(include='object').columns:\n",
    "    if col not in ['HOBBY', 'FOTOS']:\n",
    "        classic_df[col] = classic_df[col].str.lower()\n",
    "\n",
    "# Split hobbies, lowercase each hobby, and keep at most the first 3 items\n",
    "classic_df['HOBBY'] = classic_df['HOBBY'].apply(\n",
    "    lambda x: [hobby.strip().lower() for hobby in x.split(';')][:3] if pd.notnull(x) else []\n",
    ")\n",
    "\n",
    "classic_df = classic_df.drop(columns=['LIDERANÇA'])\n",
    "\n",
    "today = datetime.today()\n",
    "classic_df['IDADE'] = classic_df.apply(\n",
    "    lambda row: today.year - row['ANO'] - ((today.month, today.day) < (row['MES'], row['DIA'])),\n",
    "    axis=1\n",
    ")\n",
    "\n",
    "classic_df['PROFILEPIC'] = f'profile-pics/{classic_df['NOME'].str.replace(' ', '-', regex=False)}.jpg'\n",
    "\n",
    "with open('../src/data/classic2.json', 'w', encoding='utf-8') as f:\n",
    "    json.dump(json.loads(classic_df.to_json(orient='records', force_ascii=False, indent=2)), f, ensure_ascii=False, indent=2, separators=(',', ': '))"
   ]
  }
 ],
 "metadata": {
  "kernelspec": {
   "display_name": "venv (3.12.3)",
   "language": "python",
   "name": "python3"
  },
  "language_info": {
   "codemirror_mode": {
    "name": "ipython",
    "version": 3
   },
   "file_extension": ".py",
   "mimetype": "text/x-python",
   "name": "python",
   "nbconvert_exporter": "python",
   "pygments_lexer": "ipython3",
   "version": "3.12.3"
  }
 },
 "nbformat": 4,
 "nbformat_minor": 5
}
